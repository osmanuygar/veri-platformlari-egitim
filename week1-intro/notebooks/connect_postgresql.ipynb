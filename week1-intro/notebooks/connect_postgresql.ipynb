{
 "cells": [
  {
   "cell_type": "code",
   "execution_count": 7,
   "id": "825ceec8-ab80-43c6-828c-5990684f08ad",
   "metadata": {},
   "outputs": [],
   "source": [
    "import psycopg2\n",
    "from psycopg2.extras import RealDictCursor\n",
    "\n",
    "def connect_postgres():\n",
    "    \"\"\"PostgreSQL'e bağlan\"\"\"\n",
    "    try:\n",
    "        conn = psycopg2.connect(\n",
    "            host=\"localhost\",\n",
    "            port=5432,\n",
    "            database=\"veri_db\",\n",
    "            user=\"veri_user\",\n",
    "            password=\"veri_pass\"\n",
    "        )\n",
    "        print(\"✅ PostgreSQL bağlantısı başarılı!\")\n",
    "        return conn\n",
    "    except Exception as e:\n",
    "        print(f\"❌ Bağlantı hatası: {e}\")\n",
    "        return None\n",
    "\n"
   ]
  },
  {
   "cell_type": "code",
   "execution_count": 9,
   "id": "60f18802-fb12-4057-a716-6e80ba8d19ae",
   "metadata": {},
   "outputs": [
    {
     "name": "stdout",
     "output_type": "stream",
     "text": [
      "❌ Bağlantı hatası: connection to server at \"localhost\" (::1), port 5432 failed: Connection refused\n",
      "\tIs the server running on that host and accepting TCP/IP connections?\n",
      "connection to server at \"localhost\" (127.0.0.1), port 5432 failed: Connection refused\n",
      "\tIs the server running on that host and accepting TCP/IP connections?\n",
      "\n"
     ]
    }
   ],
   "source": [
    "conn = connect_postgres()\n"
   ]
  },
  {
   "cell_type": "code",
   "execution_count": 13,
   "id": "e4704b94-eeb0-4ba3-9e65-5f66a31a2d7a",
   "metadata": {},
   "outputs": [],
   "source": [
    "cursor = conn.cursor(cursor_factory=RealDictCursor)\n",
    "cursor.execute(\"SELECT version();\")\n",
    "        "
   ]
  },
  {
   "cell_type": "code",
   "execution_count": 14,
   "id": "ea6a5129-d348-44a1-ac06-fbb458c5bf43",
   "metadata": {},
   "outputs": [
    {
     "name": "stdout",
     "output_type": "stream",
     "text": [
      "PostgreSQL Version: PostgreSQL 15.14 on aarch64-unknown-linux-musl, compiled by gcc (Alpine 14.2.0) 14.2.0, 64-bit\n"
     ]
    }
   ],
   "source": [
    "version = cursor.fetchone()\n",
    "print(f\"PostgreSQL Version: {version['version']}\")\n",
    "cursor.close()\n",
    "conn.close()"
   ]
  },
  {
   "cell_type": "code",
   "execution_count": 24,
   "id": "884de819-f535-4a62-81e1-391615673215",
   "metadata": {},
   "outputs": [
    {
     "name": "stdout",
     "output_type": "stream",
     "text": [
      "✅ PostgreSQL bağlantısı başarılı!\n",
      "[RealDictRow([('adres_id', 1), ('musteri_id', 1), ('adres_baslik', 'Ev'), ('adres_satir1', 'Atatürk Cad. No:123'), ('adres_satir2', None), ('sehir', 'Istanbul'), ('ilce', 'Kadıköy'), ('posta_kodu', '34710'), ('ulke', 'Türkiye'), ('varsayilan', True)]), RealDictRow([('adres_id', 2), ('musteri_id', 1), ('adres_baslik', 'İş'), ('adres_satir1', 'Barbaros Bulvarı No:45'), ('adres_satir2', None), ('sehir', 'Istanbul'), ('ilce', 'Beşiktaş'), ('posta_kodu', '34353'), ('ulke', 'Türkiye'), ('varsayilan', False)]), RealDictRow([('adres_id', 3), ('musteri_id', 2), ('adres_baslik', 'Ev'), ('adres_satir1', 'Cumhuriyet Mah. Sok:15'), ('adres_satir2', None), ('sehir', 'Ankara'), ('ilce', 'Çankaya'), ('posta_kodu', '06420'), ('ulke', 'Türkiye'), ('varsayilan', True)]), RealDictRow([('adres_id', 4), ('musteri_id', 3), ('adres_baslik', 'Ev'), ('adres_satir1', 'Alsancak Mah. No:78'), ('adres_satir2', None), ('sehir', 'Izmir'), ('ilce', 'Konak'), ('posta_kodu', '35220'), ('ulke', 'Türkiye'), ('varsayilan', True)]), RealDictRow([('adres_id', 5), ('musteri_id', 4), ('adres_baslik', 'Ev'), ('adres_satir1', 'Bahçelievler Mah. No:90'), ('adres_satir2', None), ('sehir', 'Antalya'), ('ilce', 'Muratpaşa'), ('posta_kodu', '07050'), ('ulke', 'Türkiye'), ('varsayilan', True)]), RealDictRow([('adres_id', 6), ('musteri_id', 5), ('adres_baslik', 'Ev'), ('adres_satir1', 'Kemeraltı Cad. No:34'), ('adres_satir2', None), ('sehir', 'Bursa'), ('ilce', 'Osmangazi'), ('posta_kodu', '16010'), ('ulke', 'Türkiye'), ('varsayilan', True)])]\n"
     ]
    }
   ],
   "source": [
    "conn2 = connect_postgres()\n",
    "cursor = conn2.cursor(cursor_factory=RealDictCursor)\n",
    "cursor.execute(\"SELECT *  FROM  veri_db.ecommerce.adresler LIMIT 10;\")\n",
    "adresler = cursor.fetchall()\n",
    "print(adresler)\n",
    "cursor.close()\n",
    "conn2.close()"
   ]
  },
  {
   "cell_type": "code",
   "execution_count": 28,
   "id": "bb3e5b54-9898-4ff7-817a-9e026d6861ed",
   "metadata": {},
   "outputs": [
    {
     "name": "stdout",
     "output_type": "stream",
     "text": [
      "✅ PostgreSQL bağlantısı başarılı!\n",
      "PostgreSQL Version: PostgreSQL 15.14 on aarch64-unknown-linux-musl, compiled by gcc (Alpine 14.2.0) 14.2.0, 64-bit\n",
      "[RealDictRow([('adres_id', 1), ('musteri_id', 1), ('adres_baslik', 'Ev'), ('adres_satir1', 'Atatürk Cad. No:123'), ('adres_satir2', None), ('sehir', 'Istanbul'), ('ilce', 'Kadıköy'), ('posta_kodu', '34710'), ('ulke', 'Türkiye'), ('varsayilan', True)]), RealDictRow([('adres_id', 2), ('musteri_id', 1), ('adres_baslik', 'İş'), ('adres_satir1', 'Barbaros Bulvarı No:45'), ('adres_satir2', None), ('sehir', 'Istanbul'), ('ilce', 'Beşiktaş'), ('posta_kodu', '34353'), ('ulke', 'Türkiye'), ('varsayilan', False)]), RealDictRow([('adres_id', 3), ('musteri_id', 2), ('adres_baslik', 'Ev'), ('adres_satir1', 'Cumhuriyet Mah. Sok:15'), ('adres_satir2', None), ('sehir', 'Ankara'), ('ilce', 'Çankaya'), ('posta_kodu', '06420'), ('ulke', 'Türkiye'), ('varsayilan', True)]), RealDictRow([('adres_id', 4), ('musteri_id', 3), ('adres_baslik', 'Ev'), ('adres_satir1', 'Alsancak Mah. No:78'), ('adres_satir2', None), ('sehir', 'Izmir'), ('ilce', 'Konak'), ('posta_kodu', '35220'), ('ulke', 'Türkiye'), ('varsayilan', True)]), RealDictRow([('adres_id', 5), ('musteri_id', 4), ('adres_baslik', 'Ev'), ('adres_satir1', 'Bahçelievler Mah. No:90'), ('adres_satir2', None), ('sehir', 'Antalya'), ('ilce', 'Muratpaşa'), ('posta_kodu', '07050'), ('ulke', 'Türkiye'), ('varsayilan', True)]), RealDictRow([('adres_id', 6), ('musteri_id', 5), ('adres_baslik', 'Ev'), ('adres_satir1', 'Kemeraltı Cad. No:34'), ('adres_satir2', None), ('sehir', 'Bursa'), ('ilce', 'Osmangazi'), ('posta_kodu', '16010'), ('ulke', 'Türkiye'), ('varsayilan', True)])]\n"
     ]
    }
   ],
   "source": [
    "conn3 = connect_postgres()\n",
    "cursor = conn3.cursor(cursor_factory=RealDictCursor)\n",
    "cursor.execute(\"SELECT version();\")\n",
    "version = cursor.fetchone()\n",
    "print(f\"PostgreSQL Version: {version['version']}\")\n",
    "cursor.execute(\"SELECT *  FROM  veri_db.ecommerce.adresler LIMIT 10;\")\n",
    "adresler = cursor.fetchall()\n",
    "print(adresler)\n",
    "cursor.close()\n",
    "conn3.close()"
   ]
  },
  {
   "cell_type": "code",
   "execution_count": 30,
   "id": "e39754f5-70c3-4c95-aeec-b3eeab539f4a",
   "metadata": {},
   "outputs": [
    {
     "name": "stdout",
     "output_type": "stream",
     "text": [
      "altair==4.2.2\n",
      "annotated-types==0.7.0\n",
      "anyio==4.11.0\n",
      "argon2-cffi==25.1.0\n",
      "argon2-cffi-bindings==25.1.0\n",
      "arrow==1.3.0\n",
      "asttokens==3.0.0\n",
      "async-lru==2.0.5\n",
      "attrs==25.3.0\n",
      "babel==2.17.0\n",
      "beautifulsoup4==4.12.2\n",
      "bleach==6.2.0\n",
      "certifi==2025.8.3\n",
      "cffi==2.0.0\n",
      "charset-normalizer==3.4.3\n",
      "click==8.3.0\n",
      "colorama==0.4.6\n",
      "comm==0.2.3\n",
      "contourpy==1.3.3\n",
      "cryptography==46.0.1\n",
      "cycler==0.12.1\n",
      "debugpy==1.8.17\n",
      "decorator==5.2.1\n",
      "defusedxml==0.7.1\n",
      "dnspython==2.8.0\n",
      "entrypoints==0.4\n",
      "et_xmlfile==2.0.0\n",
      "executing==2.2.1\n",
      "Faker==22.0.0\n",
      "fastjsonschema==2.21.2\n",
      "fonttools==4.60.1\n",
      "fqdn==1.5.1\n",
      "great-expectations==0.18.8\n",
      "idna==3.10\n",
      "ipykernel==6.30.1\n",
      "ipython==9.6.0\n",
      "ipython_pygments_lexers==1.1.1\n",
      "ipywidgets==8.1.1\n",
      "isoduration==20.11.0\n",
      "jedi==0.19.2\n",
      "Jinja2==3.1.6\n",
      "json5==0.12.1\n",
      "jsonpatch==1.33\n",
      "jsonpointer==3.0.0\n",
      "jsonschema==4.25.1\n",
      "jsonschema-specifications==2025.9.1\n",
      "jupyter==1.0.0\n",
      "jupyter-console==6.6.3\n",
      "jupyter-events==0.12.0\n",
      "jupyter-lsp==2.3.0\n",
      "jupyter_client==8.6.3\n",
      "jupyter_core==5.8.1\n",
      "jupyter_server==2.17.0\n",
      "jupyter_server_terminals==0.5.3\n",
      "jupyterlab==4.0.9\n",
      "jupyterlab_pygments==0.3.0\n",
      "jupyterlab_server==2.27.3\n",
      "jupyterlab_widgets==3.0.15\n",
      "kiwisolver==1.4.9\n",
      "lark==1.3.0\n",
      "lxml==4.9.3\n",
      "makefun==1.16.0\n",
      "MarkupSafe==3.0.3\n",
      "marshmallow==3.26.1\n",
      "matplotlib==3.8.2\n",
      "matplotlib-inline==0.1.7\n",
      "mistune==3.1.4\n",
      "nbclient==0.10.2\n",
      "nbconvert==7.16.6\n",
      "nbformat==5.10.4\n",
      "nest-asyncio==1.6.0\n",
      "notebook==7.0.8\n",
      "notebook_shim==0.2.4\n",
      "numpy==1.26.2\n",
      "openpyxl==3.1.2\n",
      "overrides==7.7.0\n",
      "packaging==25.0\n",
      "pandas==2.1.4\n",
      "pandocfilters==1.5.1\n",
      "parso==0.8.5\n",
      "pexpect==4.9.0\n",
      "pillow==11.3.0\n",
      "platformdirs==4.4.0\n",
      "plotly==5.18.0\n",
      "prometheus_client==0.23.1\n",
      "prompt_toolkit==3.0.52\n",
      "psutil==7.1.0\n",
      "psycopg2-binary==2.9.9\n",
      "ptyprocess==0.7.0\n",
      "pure_eval==0.2.3\n",
      "pycparser==2.23\n",
      "pydantic==2.11.9\n",
      "pydantic_core==2.33.2\n",
      "Pygments==2.19.2\n",
      "pymongo==4.6.1\n",
      "pyparsing==3.2.5\n",
      "PyPDF2==3.0.1\n",
      "python-dateutil==2.9.0.post0\n",
      "python-docx==1.1.0\n",
      "python-dotenv==1.0.0\n",
      "python-json-logger==3.3.0\n",
      "pytz==2025.2\n",
      "PyYAML==6.0.3\n",
      "pyzmq==27.1.0\n",
      "qtconsole==5.7.0\n",
      "QtPy==2.4.3\n",
      "redis==5.0.1\n",
      "referencing==0.36.2\n",
      "requests==2.31.0\n",
      "rfc3339-validator==0.1.4\n",
      "rfc3986-validator==0.1.1\n",
      "rfc3987-syntax==1.1.0\n",
      "rpds-py==0.27.1\n",
      "ruamel.yaml==0.17.17\n",
      "scipy==1.16.2\n",
      "seaborn==0.13.0\n",
      "Send2Trash==1.8.3\n",
      "six==1.17.0\n",
      "sniffio==1.3.1\n",
      "soupsieve==2.8\n",
      "stack-data==0.6.3\n",
      "tenacity==9.1.2\n",
      "terminado==0.18.1\n",
      "tinycss2==1.4.0\n",
      "toolz==1.0.0\n",
      "tornado==6.5.2\n",
      "tqdm==4.67.1\n",
      "traitlets==5.14.3\n",
      "types-python-dateutil==2.9.0.20250822\n",
      "typing-inspection==0.4.1\n",
      "typing_extensions==4.15.0\n",
      "tzdata==2025.2\n",
      "tzlocal==5.3.1\n",
      "uri-template==1.3.0\n",
      "urllib3==2.1.0\n",
      "wcwidth==0.2.14\n",
      "webcolors==24.11.1\n",
      "webencodings==0.5.1\n",
      "websocket-client==1.8.0\n",
      "widgetsnbextension==4.0.14\n",
      "xlrd==2.0.1\n"
     ]
    }
   ],
   "source": [
    "!pip freeze"
   ]
  },
  {
   "cell_type": "code",
   "execution_count": 31,
   "id": "50cde665-c33f-4860-b82b-f1927193de67",
   "metadata": {},
   "outputs": [
    {
     "name": "stdout",
     "output_type": "stream",
     "text": [
      "/app\n"
     ]
    }
   ],
   "source": [
    "!pwd\n"
   ]
  },
  {
   "cell_type": "code",
   "execution_count": null,
   "id": "11a3df2a-bbb3-4847-a47f-6ff9ede0370c",
   "metadata": {},
   "outputs": [],
   "source": []
  },
  {
   "cell_type": "code",
   "execution_count": null,
   "id": "a140cd73-8e23-4dbd-b7ec-6fb72b92005a",
   "metadata": {},
   "outputs": [],
   "source": []
  },
  {
   "cell_type": "code",
   "execution_count": null,
   "id": "dd4be517-706d-49bc-8a75-1056fae4de37",
   "metadata": {},
   "outputs": [],
   "source": []
  }
 ],
 "metadata": {
  "kernelspec": {
   "display_name": "Python 3 (ipykernel)",
   "language": "python",
   "name": "python3"
  },
  "language_info": {
   "codemirror_mode": {
    "name": "ipython",
    "version": 3
   },
   "file_extension": ".py",
   "mimetype": "text/x-python",
   "name": "python",
   "nbconvert_exporter": "python",
   "pygments_lexer": "ipython3",
   "version": "3.11.13"
  }
 },
 "nbformat": 4,
 "nbformat_minor": 5
}
