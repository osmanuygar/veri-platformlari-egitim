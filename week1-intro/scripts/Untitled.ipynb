{
 "cells": [
  {
   "cell_type": "code",
   "execution_count": 11,
   "id": "825ceec8-ab80-43c6-828c-5990684f08ad",
   "metadata": {},
   "outputs": [],
   "source": [
    "import psycopg2\n",
    "from psycopg2.extras import RealDictCursor\n",
    "\n",
    "def connect_postgres():\n",
    "    \"\"\"PostgreSQL'e bağlan\"\"\"\n",
    "    try:\n",
    "        conn = psycopg2.connect(\n",
    "            host=\"192.168.1.45\",\n",
    "            port=5432,\n",
    "            database=\"veri_db\",\n",
    "            user=\"veri_user\",\n",
    "            password=\"veri_pass\"\n",
    "        )\n",
    "        print(\"✅ PostgreSQL bağlantısı başarılı!\")\n",
    "        return conn\n",
    "    except Exception as e:\n",
    "        print(f\"❌ Bağlantı hatası: {e}\")\n",
    "        return None\n",
    "\n"
   ]
  },
  {
   "cell_type": "code",
   "execution_count": 12,
   "id": "60f18802-fb12-4057-a716-6e80ba8d19ae",
   "metadata": {},
   "outputs": [
    {
     "name": "stdout",
     "output_type": "stream",
     "text": [
      "✅ PostgreSQL bağlantısı başarılı!\n"
     ]
    }
   ],
   "source": [
    "conn = connect_postgres()\n"
   ]
  },
  {
   "cell_type": "code",
   "execution_count": 13,
   "id": "e4704b94-eeb0-4ba3-9e65-5f66a31a2d7a",
   "metadata": {},
   "outputs": [],
   "source": [
    "cursor = conn.cursor(cursor_factory=RealDictCursor)\n",
    "cursor.execute(\"SELECT version();\")\n",
    "        "
   ]
  },
  {
   "cell_type": "code",
   "execution_count": 14,
   "id": "ea6a5129-d348-44a1-ac06-fbb458c5bf43",
   "metadata": {},
   "outputs": [
    {
     "name": "stdout",
     "output_type": "stream",
     "text": [
      "PostgreSQL Version: PostgreSQL 15.14 on aarch64-unknown-linux-musl, compiled by gcc (Alpine 14.2.0) 14.2.0, 64-bit\n"
     ]
    }
   ],
   "source": [
    "version = cursor.fetchone()\n",
    "print(f\"PostgreSQL Version: {version['version']}\")\n",
    "cursor.close()\n",
    "conn.close()"
   ]
  },
  {
   "cell_type": "code",
   "execution_count": 24,
   "id": "884de819-f535-4a62-81e1-391615673215",
   "metadata": {},
   "outputs": [
    {
     "name": "stdout",
     "output_type": "stream",
     "text": [
      "✅ PostgreSQL bağlantısı başarılı!\n",
      "[RealDictRow([('adres_id', 1), ('musteri_id', 1), ('adres_baslik', 'Ev'), ('adres_satir1', 'Atatürk Cad. No:123'), ('adres_satir2', None), ('sehir', 'Istanbul'), ('ilce', 'Kadıköy'), ('posta_kodu', '34710'), ('ulke', 'Türkiye'), ('varsayilan', True)]), RealDictRow([('adres_id', 2), ('musteri_id', 1), ('adres_baslik', 'İş'), ('adres_satir1', 'Barbaros Bulvarı No:45'), ('adres_satir2', None), ('sehir', 'Istanbul'), ('ilce', 'Beşiktaş'), ('posta_kodu', '34353'), ('ulke', 'Türkiye'), ('varsayilan', False)]), RealDictRow([('adres_id', 3), ('musteri_id', 2), ('adres_baslik', 'Ev'), ('adres_satir1', 'Cumhuriyet Mah. Sok:15'), ('adres_satir2', None), ('sehir', 'Ankara'), ('ilce', 'Çankaya'), ('posta_kodu', '06420'), ('ulke', 'Türkiye'), ('varsayilan', True)]), RealDictRow([('adres_id', 4), ('musteri_id', 3), ('adres_baslik', 'Ev'), ('adres_satir1', 'Alsancak Mah. No:78'), ('adres_satir2', None), ('sehir', 'Izmir'), ('ilce', 'Konak'), ('posta_kodu', '35220'), ('ulke', 'Türkiye'), ('varsayilan', True)]), RealDictRow([('adres_id', 5), ('musteri_id', 4), ('adres_baslik', 'Ev'), ('adres_satir1', 'Bahçelievler Mah. No:90'), ('adres_satir2', None), ('sehir', 'Antalya'), ('ilce', 'Muratpaşa'), ('posta_kodu', '07050'), ('ulke', 'Türkiye'), ('varsayilan', True)]), RealDictRow([('adres_id', 6), ('musteri_id', 5), ('adres_baslik', 'Ev'), ('adres_satir1', 'Kemeraltı Cad. No:34'), ('adres_satir2', None), ('sehir', 'Bursa'), ('ilce', 'Osmangazi'), ('posta_kodu', '16010'), ('ulke', 'Türkiye'), ('varsayilan', True)])]\n"
     ]
    }
   ],
   "source": [
    "conn2 = connect_postgres()\n",
    "cursor = conn2.cursor(cursor_factory=RealDictCursor)\n",
    "cursor.execute(\"SELECT *  FROM  veri_db.ecommerce.adresler LIMIT 10;\")\n",
    "adresler = cursor.fetchall()\n",
    "print(adresler)\n",
    "cursor.close()\n",
    "conn2.close()"
   ]
  },
  {
   "cell_type": "code",
   "execution_count": 28,
   "id": "bb3e5b54-9898-4ff7-817a-9e026d6861ed",
   "metadata": {},
   "outputs": [
    {
     "name": "stdout",
     "output_type": "stream",
     "text": [
      "✅ PostgreSQL bağlantısı başarılı!\n",
      "PostgreSQL Version: PostgreSQL 15.14 on aarch64-unknown-linux-musl, compiled by gcc (Alpine 14.2.0) 14.2.0, 64-bit\n",
      "[RealDictRow([('adres_id', 1), ('musteri_id', 1), ('adres_baslik', 'Ev'), ('adres_satir1', 'Atatürk Cad. No:123'), ('adres_satir2', None), ('sehir', 'Istanbul'), ('ilce', 'Kadıköy'), ('posta_kodu', '34710'), ('ulke', 'Türkiye'), ('varsayilan', True)]), RealDictRow([('adres_id', 2), ('musteri_id', 1), ('adres_baslik', 'İş'), ('adres_satir1', 'Barbaros Bulvarı No:45'), ('adres_satir2', None), ('sehir', 'Istanbul'), ('ilce', 'Beşiktaş'), ('posta_kodu', '34353'), ('ulke', 'Türkiye'), ('varsayilan', False)]), RealDictRow([('adres_id', 3), ('musteri_id', 2), ('adres_baslik', 'Ev'), ('adres_satir1', 'Cumhuriyet Mah. Sok:15'), ('adres_satir2', None), ('sehir', 'Ankara'), ('ilce', 'Çankaya'), ('posta_kodu', '06420'), ('ulke', 'Türkiye'), ('varsayilan', True)]), RealDictRow([('adres_id', 4), ('musteri_id', 3), ('adres_baslik', 'Ev'), ('adres_satir1', 'Alsancak Mah. No:78'), ('adres_satir2', None), ('sehir', 'Izmir'), ('ilce', 'Konak'), ('posta_kodu', '35220'), ('ulke', 'Türkiye'), ('varsayilan', True)]), RealDictRow([('adres_id', 5), ('musteri_id', 4), ('adres_baslik', 'Ev'), ('adres_satir1', 'Bahçelievler Mah. No:90'), ('adres_satir2', None), ('sehir', 'Antalya'), ('ilce', 'Muratpaşa'), ('posta_kodu', '07050'), ('ulke', 'Türkiye'), ('varsayilan', True)]), RealDictRow([('adres_id', 6), ('musteri_id', 5), ('adres_baslik', 'Ev'), ('adres_satir1', 'Kemeraltı Cad. No:34'), ('adres_satir2', None), ('sehir', 'Bursa'), ('ilce', 'Osmangazi'), ('posta_kodu', '16010'), ('ulke', 'Türkiye'), ('varsayilan', True)])]\n"
     ]
    }
   ],
   "source": [
    "conn3 = connect_postgres()\n",
    "cursor = conn3.cursor(cursor_factory=RealDictCursor)\n",
    "cursor.execute(\"SELECT version();\")\n",
    "version = cursor.fetchone()\n",
    "print(f\"PostgreSQL Version: {version['version']}\")\n",
    "cursor.execute(\"SELECT *  FROM  veri_db.ecommerce.adresler LIMIT 10;\")\n",
    "adresler = cursor.fetchall()\n",
    "print(adresler)\n",
    "cursor.close()\n",
    "conn3.close()"
   ]
  },
  {
   "cell_type": "code",
   "execution_count": null,
   "id": "65779338-d3cb-44ba-a3c1-daadb502ffc7",
   "metadata": {},
   "outputs": [],
   "source": []
  }
 ],
 "metadata": {
  "kernelspec": {
   "display_name": "Python 3 (ipykernel)",
   "language": "python",
   "name": "python3"
  },
  "language_info": {
   "codemirror_mode": {
    "name": "ipython",
    "version": 3
   },
   "file_extension": ".py",
   "mimetype": "text/x-python",
   "name": "python",
   "nbconvert_exporter": "python",
   "pygments_lexer": "ipython3",
   "version": "3.11.13"
  }
 },
 "nbformat": 4,
 "nbformat_minor": 5
}
